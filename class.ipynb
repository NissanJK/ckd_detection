{
 "cells": [
  {
   "cell_type": "code",
   "execution_count": 26,
   "metadata": {},
   "outputs": [],
   "source": [
    "# importing libraries\n",
    "import pandas as pd\n",
    "import numpy as np\n",
    "import matplotlib.pyplot as plt\n",
    "from sklearn import preprocessing as per"
   ]
  },
  {
   "cell_type": "code",
   "execution_count": 27,
   "metadata": {},
   "outputs": [
    {
     "data": {
      "text/html": [
       "<div>\n",
       "<style scoped>\n",
       "    .dataframe tbody tr th:only-of-type {\n",
       "        vertical-align: middle;\n",
       "    }\n",
       "\n",
       "    .dataframe tbody tr th {\n",
       "        vertical-align: top;\n",
       "    }\n",
       "\n",
       "    .dataframe thead th {\n",
       "        text-align: right;\n",
       "    }\n",
       "</style>\n",
       "<table border=\"1\" class=\"dataframe\">\n",
       "  <thead>\n",
       "    <tr style=\"text-align: right;\">\n",
       "      <th></th>\n",
       "      <th>age</th>\n",
       "      <th>bp</th>\n",
       "      <th>sg</th>\n",
       "      <th>al</th>\n",
       "      <th>bgr</th>\n",
       "      <th>sc</th>\n",
       "      <th>hemo</th>\n",
       "      <th>htn</th>\n",
       "      <th>dm</th>\n",
       "      <th>ane</th>\n",
       "      <th>classification</th>\n",
       "    </tr>\n",
       "  </thead>\n",
       "  <tbody>\n",
       "    <tr>\n",
       "      <th>0</th>\n",
       "      <td>48.0</td>\n",
       "      <td>80.0</td>\n",
       "      <td>1.020</td>\n",
       "      <td>1.0</td>\n",
       "      <td>121.0</td>\n",
       "      <td>1.2</td>\n",
       "      <td>15.4</td>\n",
       "      <td>1.0</td>\n",
       "      <td>1.0</td>\n",
       "      <td>0.0</td>\n",
       "      <td>1</td>\n",
       "    </tr>\n",
       "    <tr>\n",
       "      <th>1</th>\n",
       "      <td>7.0</td>\n",
       "      <td>50.0</td>\n",
       "      <td>1.020</td>\n",
       "      <td>4.0</td>\n",
       "      <td>121.0</td>\n",
       "      <td>0.8</td>\n",
       "      <td>11.3</td>\n",
       "      <td>0.0</td>\n",
       "      <td>0.0</td>\n",
       "      <td>0.0</td>\n",
       "      <td>1</td>\n",
       "    </tr>\n",
       "    <tr>\n",
       "      <th>2</th>\n",
       "      <td>62.0</td>\n",
       "      <td>80.0</td>\n",
       "      <td>1.010</td>\n",
       "      <td>2.0</td>\n",
       "      <td>423.0</td>\n",
       "      <td>1.8</td>\n",
       "      <td>9.6</td>\n",
       "      <td>0.0</td>\n",
       "      <td>1.0</td>\n",
       "      <td>1.0</td>\n",
       "      <td>1</td>\n",
       "    </tr>\n",
       "    <tr>\n",
       "      <th>3</th>\n",
       "      <td>48.0</td>\n",
       "      <td>70.0</td>\n",
       "      <td>1.005</td>\n",
       "      <td>4.0</td>\n",
       "      <td>117.0</td>\n",
       "      <td>3.8</td>\n",
       "      <td>11.2</td>\n",
       "      <td>1.0</td>\n",
       "      <td>0.0</td>\n",
       "      <td>1.0</td>\n",
       "      <td>1</td>\n",
       "    </tr>\n",
       "    <tr>\n",
       "      <th>4</th>\n",
       "      <td>51.0</td>\n",
       "      <td>80.0</td>\n",
       "      <td>1.010</td>\n",
       "      <td>2.0</td>\n",
       "      <td>106.0</td>\n",
       "      <td>1.4</td>\n",
       "      <td>11.6</td>\n",
       "      <td>0.0</td>\n",
       "      <td>0.0</td>\n",
       "      <td>0.0</td>\n",
       "      <td>1</td>\n",
       "    </tr>\n",
       "    <tr>\n",
       "      <th>...</th>\n",
       "      <td>...</td>\n",
       "      <td>...</td>\n",
       "      <td>...</td>\n",
       "      <td>...</td>\n",
       "      <td>...</td>\n",
       "      <td>...</td>\n",
       "      <td>...</td>\n",
       "      <td>...</td>\n",
       "      <td>...</td>\n",
       "      <td>...</td>\n",
       "      <td>...</td>\n",
       "    </tr>\n",
       "    <tr>\n",
       "      <th>388</th>\n",
       "      <td>55.0</td>\n",
       "      <td>80.0</td>\n",
       "      <td>1.020</td>\n",
       "      <td>0.0</td>\n",
       "      <td>140.0</td>\n",
       "      <td>0.5</td>\n",
       "      <td>15.7</td>\n",
       "      <td>0.0</td>\n",
       "      <td>0.0</td>\n",
       "      <td>0.0</td>\n",
       "      <td>0</td>\n",
       "    </tr>\n",
       "    <tr>\n",
       "      <th>389</th>\n",
       "      <td>42.0</td>\n",
       "      <td>70.0</td>\n",
       "      <td>1.025</td>\n",
       "      <td>0.0</td>\n",
       "      <td>75.0</td>\n",
       "      <td>1.2</td>\n",
       "      <td>16.5</td>\n",
       "      <td>0.0</td>\n",
       "      <td>0.0</td>\n",
       "      <td>0.0</td>\n",
       "      <td>0</td>\n",
       "    </tr>\n",
       "    <tr>\n",
       "      <th>390</th>\n",
       "      <td>12.0</td>\n",
       "      <td>80.0</td>\n",
       "      <td>1.020</td>\n",
       "      <td>0.0</td>\n",
       "      <td>100.0</td>\n",
       "      <td>0.6</td>\n",
       "      <td>15.8</td>\n",
       "      <td>0.0</td>\n",
       "      <td>0.0</td>\n",
       "      <td>0.0</td>\n",
       "      <td>0</td>\n",
       "    </tr>\n",
       "    <tr>\n",
       "      <th>391</th>\n",
       "      <td>17.0</td>\n",
       "      <td>60.0</td>\n",
       "      <td>1.025</td>\n",
       "      <td>0.0</td>\n",
       "      <td>114.0</td>\n",
       "      <td>1.0</td>\n",
       "      <td>14.2</td>\n",
       "      <td>0.0</td>\n",
       "      <td>0.0</td>\n",
       "      <td>0.0</td>\n",
       "      <td>0</td>\n",
       "    </tr>\n",
       "    <tr>\n",
       "      <th>392</th>\n",
       "      <td>58.0</td>\n",
       "      <td>80.0</td>\n",
       "      <td>1.025</td>\n",
       "      <td>0.0</td>\n",
       "      <td>131.0</td>\n",
       "      <td>1.1</td>\n",
       "      <td>15.8</td>\n",
       "      <td>0.0</td>\n",
       "      <td>0.0</td>\n",
       "      <td>0.0</td>\n",
       "      <td>0</td>\n",
       "    </tr>\n",
       "  </tbody>\n",
       "</table>\n",
       "<p>393 rows × 11 columns</p>\n",
       "</div>"
      ],
      "text/plain": [
       "      age    bp     sg   al    bgr   sc  hemo  htn   dm  ane  classification\n",
       "0    48.0  80.0  1.020  1.0  121.0  1.2  15.4  1.0  1.0  0.0               1\n",
       "1     7.0  50.0  1.020  4.0  121.0  0.8  11.3  0.0  0.0  0.0               1\n",
       "2    62.0  80.0  1.010  2.0  423.0  1.8   9.6  0.0  1.0  1.0               1\n",
       "3    48.0  70.0  1.005  4.0  117.0  3.8  11.2  1.0  0.0  1.0               1\n",
       "4    51.0  80.0  1.010  2.0  106.0  1.4  11.6  0.0  0.0  0.0               1\n",
       "..    ...   ...    ...  ...    ...  ...   ...  ...  ...  ...             ...\n",
       "388  55.0  80.0  1.020  0.0  140.0  0.5  15.7  0.0  0.0  0.0               0\n",
       "389  42.0  70.0  1.025  0.0   75.0  1.2  16.5  0.0  0.0  0.0               0\n",
       "390  12.0  80.0  1.020  0.0  100.0  0.6  15.8  0.0  0.0  0.0               0\n",
       "391  17.0  60.0  1.025  0.0  114.0  1.0  14.2  0.0  0.0  0.0               0\n",
       "392  58.0  80.0  1.025  0.0  131.0  1.1  15.8  0.0  0.0  0.0               0\n",
       "\n",
       "[393 rows x 11 columns]"
      ]
     },
     "execution_count": 27,
     "metadata": {},
     "output_type": "execute_result"
    }
   ],
   "source": [
    "#importing datasets\n",
    "data1=pd.read_csv(\"kidney.csv\")\n",
    "data1"
   ]
  },
  {
   "cell_type": "code",
   "execution_count": 28,
   "metadata": {},
   "outputs": [
    {
     "data": {
      "text/plain": [
       "classification\n",
       "1    243\n",
       "0    150\n",
       "Name: count, dtype: int64"
      ]
     },
     "execution_count": 28,
     "metadata": {},
     "output_type": "execute_result"
    }
   ],
   "source": [
    "data1['classification'].value_counts()"
   ]
  },
  {
   "cell_type": "code",
   "execution_count": 29,
   "metadata": {},
   "outputs": [],
   "source": [
    "data=data1"
   ]
  },
  {
   "cell_type": "code",
   "execution_count": 30,
   "metadata": {},
   "outputs": [
    {
     "data": {
      "text/plain": [
       "age               393\n",
       "bp                393\n",
       "sg                393\n",
       "al                393\n",
       "bgr               393\n",
       "sc                393\n",
       "hemo              393\n",
       "htn               393\n",
       "dm                393\n",
       "ane               393\n",
       "classification    393\n",
       "dtype: int64"
      ]
     },
     "execution_count": 30,
     "metadata": {},
     "output_type": "execute_result"
    }
   ],
   "source": [
    "data.count()"
   ]
  },
  {
   "cell_type": "code",
   "execution_count": 31,
   "metadata": {},
   "outputs": [],
   "source": [
    "X=data.drop('classification',axis=1)\n",
    "y=data['classification']"
   ]
  },
  {
   "cell_type": "code",
   "execution_count": 7,
   "metadata": {},
   "outputs": [],
   "source": [
    "from sklearn.model_selection import train_test_split"
   ]
  },
  {
   "cell_type": "code",
   "execution_count": 32,
   "metadata": {},
   "outputs": [],
   "source": [
    "X_train, X_test, y_train, y_test = train_test_split(X, y, test_size=0.2, random_state=42)"
   ]
  },
  {
   "cell_type": "code",
   "execution_count": 33,
   "metadata": {},
   "outputs": [],
   "source": [
    "from sklearn.linear_model import LogisticRegression\n",
    "from sklearn.discriminant_analysis import LinearDiscriminantAnalysis\n",
    "from sklearn.neighbors import KNeighborsClassifier\n",
    "from sklearn.naive_bayes import GaussianNB\n",
    "from sklearn.tree import DecisionTreeClassifier\n",
    "from sklearn.svm import SVC"
   ]
  },
  {
   "cell_type": "code",
   "execution_count": 34,
   "metadata": {},
   "outputs": [],
   "source": [
    "# Begin by importing all necessary libraries\n",
    "from sklearn.metrics import classification_report\n",
    "from sklearn.metrics import confusion_matrix\n",
    "from sklearn.metrics import accuracy_score"
   ]
  },
  {
   "cell_type": "code",
   "execution_count": 35,
   "metadata": {},
   "outputs": [
    {
     "name": "stdout",
     "output_type": "stream",
     "text": [
      "      age    bp     sg   al    bgr    sc  hemo  htn   dm  ane\n",
      "329  25.0  60.0  1.020  0.0  119.0   0.5  15.2  0.0  0.0  0.0\n",
      "182   3.0  80.0  1.010  2.0  121.0   0.7  10.7  0.0  0.0  0.0\n",
      "172  65.0  80.0  1.015  2.0  215.0   2.5  13.2  0.0  1.0  0.0\n",
      "63   55.0  80.0  1.010  0.0  146.0   1.2   9.8  0.0  0.0  0.0\n",
      "341  38.0  80.0  1.020  0.0   99.0   0.5  13.6  0.0  0.0  0.0\n",
      "..    ...   ...    ...  ...    ...   ...   ...  ...  ...  ...\n",
      "71   64.0  90.0  1.010  3.0  121.0   1.3  10.3  1.0  1.0  0.0\n",
      "106  54.0  70.0  1.020  0.0  233.0   1.9  11.7  0.0  1.0  0.0\n",
      "270  46.0  60.0  1.025  0.0  123.0   1.0  15.7  0.0  0.0  0.0\n",
      "348  23.0  60.0  1.020  0.0   95.0   0.8  15.0  0.0  0.0  0.0\n",
      "102  65.0  80.0  1.015  0.0  115.0  11.5  14.1  0.0  0.0  0.0\n",
      "\n",
      "[314 rows x 10 columns]\n",
      "329    0\n",
      "182    1\n",
      "172    1\n",
      "63     1\n",
      "341    0\n",
      "      ..\n",
      "71     1\n",
      "106    1\n",
      "270    0\n",
      "348    0\n",
      "102    1\n",
      "Name: classification, Length: 314, dtype: int64\n"
     ]
    }
   ],
   "source": [
    "print(X_train)\n",
    "print(y_train)"
   ]
  },
  {
   "cell_type": "code",
   "execution_count": 12,
   "metadata": {},
   "outputs": [],
   "source": [
    "from sklearn import svm"
   ]
  },
  {
   "cell_type": "code",
   "execution_count": 13,
   "metadata": {},
   "outputs": [],
   "source": [
    "# KNN model requires you to specify n_neighbors,\n",
    "# the number of points the classifier will look at to determine what class a new point belongs to\n",
    "#KNN_model = KNeighborsClassifier(n_neighbors=5)\n",
    "SVC_model = svm.SVC()\n",
    "SVC_model.fit(X_train, y_train)\n",
    "SVC_prediction = SVC_model.predict(X_test)"
   ]
  },
  {
   "cell_type": "code",
   "execution_count": 14,
   "metadata": {},
   "outputs": [
    {
     "name": "stdout",
     "output_type": "stream",
     "text": [
      "0.7341772151898734\n",
      "[[22 19]\n",
      " [ 2 36]]\n",
      "              precision    recall  f1-score   support\n",
      "\n",
      "           0       0.92      0.54      0.68        41\n",
      "           1       0.65      0.95      0.77        38\n",
      "\n",
      "    accuracy                           0.73        79\n",
      "   macro avg       0.79      0.74      0.73        79\n",
      "weighted avg       0.79      0.73      0.72        79\n",
      "\n"
     ]
    }
   ],
   "source": [
    "# Accuracy score is the simplest way to evaluate\n",
    "print(accuracy_score(SVC_prediction, y_test))\n",
    "# But Confusion Matrix and Classification Report give more details about performance\n",
    "print(confusion_matrix(SVC_prediction, y_test))\n",
    "print(classification_report(SVC_prediction, y_test))"
   ]
  },
  {
   "cell_type": "code",
   "execution_count": 15,
   "metadata": {},
   "outputs": [
    {
     "data": {
      "image/png": "[encoded data removed]",
      "text/plain": [
       "<Figure size 640x480 with 2 Axes>"
      ]
     },
     "metadata": {},
     "output_type": "display_data"
    }
   ],
   "source": [
    "import seaborn as sns\n",
    "conf_matrix = confusion_matrix(SVC_prediction,y_test)\n",
    "sns.heatmap(conf_matrix, annot=True, fmt='d', cmap='Blues', xticklabels=np.unique(y), yticklabels=np.unique(y))\n",
    "plt.xlabel('Predicted')\n",
    "plt.ylabel('True')\n",
    "plt.title('Confusion Matrix')\n",
    "plt.show()"
   ]
  },
  {
   "cell_type": "code",
   "execution_count": 16,
   "metadata": {},
   "outputs": [
    {
     "name": "stdout",
     "output_type": "stream",
     "text": [
      "Disease\n"
     ]
    }
   ],
   "source": [
    "def predict_custom_input(features):\n",
    "    input_df = pd.DataFrame([features], columns=X.columns)\n",
    "    prediction = SVC_model.predict(input_df)\n",
    "    return prediction[0]  \n",
    "\n",
    "\n",
    "\n",
    "#custom_input = [63,70,1.01,3,380,2.7,10.8,1,1,0]\n",
    "custom_input = [63,70,1.01,3,380,2.7,10.8,1,1,0]  \n",
    "\n",
    "\n",
    "predicted_class = predict_custom_input(custom_input)\n",
    "if predicted_class==0:\n",
    "    print(\"No Disease\")\n",
    "else:\n",
    "    print(\"Disease\")"
   ]
  },
  {
   "cell_type": "code",
   "execution_count": 17,
   "metadata": {},
   "outputs": [
    {
     "name": "stdout",
     "output_type": "stream",
     "text": [
      "KNN Model Performance:\n",
      "Accuracy: 0.7721518987341772\n",
      "Classification Report:\n",
      "              precision    recall  f1-score   support\n",
      "\n",
      "           0       0.58      0.92      0.71        24\n",
      "           1       0.95      0.71      0.81        55\n",
      "\n",
      "    accuracy                           0.77        79\n",
      "   macro avg       0.77      0.81      0.76        79\n",
      "weighted avg       0.84      0.77      0.78        79\n",
      "\n",
      "Confusion Matrix:\n",
      "[[22  2]\n",
      " [16 39]]\n"
     ]
    }
   ],
   "source": [
    "from sklearn.neighbors import KNeighborsClassifier\n",
    "from sklearn.metrics import accuracy_score, classification_report, confusion_matrix\n",
    "\n",
    "# Initialize KNN model (default neighbors = 6)\n",
    "KNN_model = KNeighborsClassifier(n_neighbors=6)\n",
    "\n",
    "# Train the model\n",
    "KNN_model.fit(X_train, y_train)\n",
    "\n",
    "# Make predictions\n",
    "KNN_predictions = KNN_model.predict(X_test)\n",
    "\n",
    "# Evaluate the model\n",
    "print(\"KNN Model Performance:\")\n",
    "\n",
    "# Accuracy\n",
    "knn_accuracy = accuracy_score(y_test, KNN_predictions)\n",
    "print(f\"Accuracy: {knn_accuracy}\")\n",
    "\n",
    "# Classification report\n",
    "print(\"Classification Report:\")\n",
    "print(classification_report(y_test, KNN_predictions))\n",
    "\n",
    "# Confusion matrix\n",
    "print(\"Confusion Matrix:\")\n",
    "print(confusion_matrix(y_test, KNN_predictions))"
   ]
  },
  {
   "cell_type": "code",
   "execution_count": 18,
   "metadata": {},
   "outputs": [
    {
     "name": "stdout",
     "output_type": "stream",
     "text": [
      "Disease\n"
     ]
    }
   ],
   "source": [
    "def predict_custom_input(features):\n",
    "    input_df = pd.DataFrame([features], columns=X.columns)\n",
    "    prediction = KNN_model.predict(input_df)\n",
    "    return prediction[0]  \n",
    "\n",
    "\n",
    "\n",
    "#custom_input = [63,70,1.01,3,380,2.7,10.8,1,1,0]\n",
    "custom_input = [63,70,1.01,3,380,2.7,10.8,1,1,0]  # same example as before\n",
    "\n",
    "\n",
    "predicted_class = predict_custom_input(custom_input)\n",
    "if predicted_class==0:\n",
    "    print(\"No Disease\")\n",
    "else:\n",
    "    print(\"Disease\")"
   ]
  },
  {
   "cell_type": "code",
   "execution_count": 36,
   "metadata": {},
   "outputs": [
    {
     "name": "stdout",
     "output_type": "stream",
     "text": [
      "XGBoost Classifier Performance:\n",
      "Accuracy: 0.9746835443037974\n",
      "Classification Report:\n",
      "              precision    recall  f1-score   support\n",
      "\n",
      "           0       0.96      0.96      0.96        24\n",
      "           1       0.98      0.98      0.98        55\n",
      "\n",
      "    accuracy                           0.97        79\n",
      "   macro avg       0.97      0.97      0.97        79\n",
      "weighted avg       0.97      0.97      0.97        79\n",
      "\n",
      "Confusion Matrix:\n",
      "[[23  1]\n",
      " [ 1 54]]\n"
     ]
    }
   ],
   "source": [
    "from xgboost import XGBClassifier\n",
    "from sklearn.metrics import accuracy_score, classification_report, confusion_matrix\n",
    "\n",
    "# Initialize XGBoost model\n",
    "XGB_model = XGBClassifier()\n",
    "\n",
    "# Train the model\n",
    "XGB_model.fit(X_train, y_train)\n",
    "\n",
    "# Make predictions\n",
    "XGB_predictions = XGB_model.predict(X_test)\n",
    "\n",
    "# Evaluate the model\n",
    "print(\"XGBoost Classifier Performance:\")\n",
    "\n",
    "# Accuracy\n",
    "xgb_accuracy = accuracy_score(y_test, XGB_predictions)\n",
    "print(f\"Accuracy: {xgb_accuracy}\")\n",
    "\n",
    "# Classification report\n",
    "print(\"Classification Report:\")\n",
    "print(classification_report(y_test, XGB_predictions))\n",
    "\n",
    "# Confusion matrix\n",
    "print(\"Confusion Matrix:\")\n",
    "print(confusion_matrix(y_test, XGB_predictions))"
   ]
  },
  {
   "cell_type": "code",
   "execution_count": 37,
   "metadata": {},
   "outputs": [
    {
     "data": {
      "image/png": "[encoded data removed]",
      "text/plain": [
       "<Figure size 800x600 with 2 Axes>"
      ]
     },
     "metadata": {},
     "output_type": "display_data"
    }
   ],
   "source": [
    "import seaborn as sns\n",
    "import matplotlib.pyplot as plt\n",
    "from sklearn.metrics import confusion_matrix\n",
    "\n",
    "# Generate confusion matrix\n",
    "cm = confusion_matrix(y_test, XGB_predictions)\n",
    "\n",
    "# Plot confusion matrix as heatmap\n",
    "plt.figure(figsize=(8, 6))\n",
    "sns.heatmap(cm, annot=True, fmt='d', cmap='Blues', xticklabels=['Not CKD', 'CKD'], yticklabels=['Not CKD', 'CKD'])\n",
    "plt.xlabel('Predicted Labels')\n",
    "plt.ylabel('True Labels')\n",
    "plt.title('Confusion Matrix')\n",
    "plt.show()\n"
   ]
  },
  {
   "cell_type": "code",
   "execution_count": 38,
   "metadata": {},
   "outputs": [
    {
     "name": "stdout",
     "output_type": "stream",
     "text": [
      "Fitting 3 folds for each of 50 candidates, totalling 150 fits\n",
      "Best Parameters: {'subsample': 1.0, 'reg_lambda': 3, 'reg_alpha': 0, 'n_estimators': 300, 'min_child_weight': 1, 'max_depth': 9, 'learning_rate': 0.2, 'gamma': 0, 'colsample_bytree': 0.8}\n",
      "Best Accuracy: 0.9936507936507937\n"
     ]
    }
   ],
   "source": [
    "from sklearn.model_selection import RandomizedSearchCV\n",
    "from xgboost import XGBClassifier\n",
    "\n",
    "# Define parameter grid\n",
    "param_grid = {\n",
    "    'learning_rate': [0.01, 0.1, 0.2, 0.3],\n",
    "    'n_estimators': [50, 100, 200, 300],\n",
    "    'max_depth': [3, 5, 7, 9],\n",
    "    'min_child_weight': [1, 3, 5],\n",
    "    'subsample': [0.8, 1.0],\n",
    "    'colsample_bytree': [0.8, 1.0],\n",
    "    'gamma': [0, 1, 5],\n",
    "    'reg_alpha': [0, 0.1, 0.5],\n",
    "    'reg_lambda': [1, 3, 5]\n",
    "}\n",
    "\n",
    "# Initialize model\n",
    "xgb = XGBClassifier()\n",
    "\n",
    "# RandomizedSearchCV\n",
    "random_search = RandomizedSearchCV(\n",
    "    estimator=xgb,\n",
    "    param_distributions=param_grid,\n",
    "    n_iter=50,  # Number of combinations to try\n",
    "    scoring='accuracy',\n",
    "    cv=3,  # 3-fold cross-validation\n",
    "    verbose=1,\n",
    "    random_state=42,\n",
    "    n_jobs=-1  # Use all processors\n",
    ")\n",
    "\n",
    "# Fit RandomizedSearchCV\n",
    "random_search.fit(X_train, y_train)\n",
    "\n",
    "# Best parameters and accuracy\n",
    "print(\"Best Parameters:\", random_search.best_params_)\n",
    "print(\"Best Accuracy:\", random_search.best_score_)\n"
   ]
  },
  {
   "cell_type": "code",
   "execution_count": 39,
   "metadata": {},
   "outputs": [
    {
     "name": "stdout",
     "output_type": "stream",
     "text": [
      "Tuned Model Accuracy: 0.9746835443037974\n"
     ]
    }
   ],
   "source": [
    "best_params = random_search.best_params_\n",
    "\n",
    "# Train XGBoost with best parameters\n",
    "xgb_tuned = XGBClassifier(**best_params)\n",
    "xgb_tuned.fit(X_train, y_train)\n",
    "\n",
    "# Evaluate the tuned model\n",
    "y_pred_tuned = xgb_tuned.predict(X_test)\n",
    "print(\"Tuned Model Accuracy:\", accuracy_score(y_test, y_pred_tuned))\n"
   ]
  },
  {
   "cell_type": "code",
   "execution_count": 40,
   "metadata": {},
   "outputs": [
    {
     "name": "stdout",
     "output_type": "stream",
     "text": [
      "Disease\n"
     ]
    }
   ],
   "source": [
    "def predict_custom_input(features):\n",
    "    input_df = pd.DataFrame([features], columns=X.columns)\n",
    "    prediction = XGB_model.predict(input_df)\n",
    "    return prediction[0]  \n",
    "\n",
    "\n",
    "\n",
    "#custom_input = [63,70,1.01,3,380,2.7,10.8,1,1,0]\n",
    "custom_input = [63,70,1.01,3,380,2.7,10.8,1,1,0]  # same example as before\n",
    "\n",
    "\n",
    "predicted_class = predict_custom_input(custom_input)\n",
    "if predicted_class==0:\n",
    "    print(\"No Disease\")\n",
    "else:\n",
    "    print(\"Disease\")"
   ]
  },
  {
   "cell_type": "code",
   "execution_count": 41,
   "metadata": {},
   "outputs": [],
   "source": [
    "import pickle\n",
    "pickle.dump(XGB_model, open('kidney.pkl', 'wb'))"
   ]
  },
  {
   "cell_type": "code",
   "execution_count": null,
   "metadata": {},
   "outputs": [],
   "source": [
    "# Thank you!"
   ]
  }
 ],
 "metadata": {
  "kernelspec": {
   "display_name": "venv",
   "language": "python",
   "name": "python3"
  },
  "language_info": {
   "codemirror_mode": {
    "name": "ipython",
    "version": 3
   },
   "file_extension": ".py",
   "mimetype": "text/x-python",
   "name": "python",
   "nbconvert_exporter": "python",
   "pygments_lexer": "ipython3",
   "version": "3.12.7"
  }
 },
 "nbformat": 4,
 "nbformat_minor": 2
}
